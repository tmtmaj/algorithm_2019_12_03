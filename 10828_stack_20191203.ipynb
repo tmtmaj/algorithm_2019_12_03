{
 "cells": [
  {
   "cell_type": "markdown",
   "metadata": {},
   "source": [
    "10828번\n",
    "\n",
    "문제\n",
    "정수를 저장하는 스택을 구현한 다음, 입력으로 주어지는 명령을 처리하는 프로그램을 작성하시오.\n",
    "\n",
    "명령은 총 다섯 가지이다.\n",
    "\n",
    "push X: 정수 X를 스택에 넣는 연산이다.\n",
    "pop: 스택에서 가장 위에 있는 정수를 빼고, 그 수를 출력한다. 만약 스택에 들어있는 정수가 없는 경우에는 -1을 출력한다.\n",
    "size: 스택에 들어있는 정수의 개수를 출력한다.\n",
    "empty: 스택이 비어있으면 1, 아니면 0을 출력한다.\n",
    "top: 스택의 가장 위에 있는 정수를 출력한다. 만약 스택에 들어있는 정수가 없는 경우에는 -1을 출력한다.\n",
    "입력\n",
    "첫째 줄에 주어지는 명령의 수 N (1 ≤ N ≤ 10,000)이 주어진다. 둘째 줄부터 N개의 줄에는 명령이 하나씩 주어진다. 주어지는 정수는 1보다 크거나 같고, 100,000보다 작거나 같다. 문제에 나와있지 않은 명령이 주어지는 경우는 없다.\n",
    "\n",
    "출력\n",
    "출력해야하는 명령이 주어질 때마다, 한 줄에 하나씩 출력한다."
   ]
  },
  {
   "cell_type": "code",
   "execution_count": 12,
   "metadata": {},
   "outputs": [],
   "source": [
    "a = \"12\""
   ]
  },
  {
   "cell_type": "code",
   "execution_count": 13,
   "metadata": {},
   "outputs": [
    {
     "data": {
      "text/plain": [
       "12"
      ]
     },
     "execution_count": 13,
     "metadata": {},
     "output_type": "execute_result"
    }
   ],
   "source": [
    "int(a)"
   ]
  },
  {
   "cell_type": "code",
   "execution_count": 18,
   "metadata": {},
   "outputs": [],
   "source": [
    "a = sys.stdin.readline().strip()"
   ]
  },
  {
   "cell_type": "code",
   "execution_count": 20,
   "metadata": {},
   "outputs": [
    {
     "name": "stdout",
     "output_type": "stream",
     "text": [
      "2\n",
      "push 2\n",
      "pop\n",
      "2\n"
     ]
    }
   ],
   "source": [
    "class Stack:\n",
    "    def __init__(self):\n",
    "        self.len = 0\n",
    "        self.list = []\n",
    "        \n",
    "    def push(self, num):\n",
    "        self.list.append(num)\n",
    "        self.len += 1\n",
    "        \n",
    "    def pop(self):\n",
    "        if self.size() == 0:\n",
    "            return -1 \n",
    "        pop_result = self.list[self.len - 1]\n",
    "        del self.list[self.len - 1]\n",
    "        self.len -= 1\n",
    "        return pop_result\n",
    "    \n",
    "    def size(self):\n",
    "        return self.len\n",
    "    \n",
    "    def empty(self):\n",
    "        return 1 if self.len == 0 else 0\n",
    "    \n",
    "    def top(self):\n",
    "        return self.list[-1] if self.size() != 0 else -1\n",
    "\n",
    "num = int(input())\n",
    "stack = Stack()\n",
    "while(num > 0):\n",
    "    num -= 1\n",
    "    input_split = input().split()\n",
    "    \n",
    "    op = input_split[0]\n",
    "    \n",
    "    if op == \"push\":\n",
    "        stack.push(input_split[1])\n",
    "    elif op == \"pop\":\n",
    "        print(stack.pop())\n",
    "    elif op == \"size\":\n",
    "        print(stack.size())\n",
    "    elif op == \"empty\":\n",
    "        print(stack.empty())\n",
    "    elif op == \"top\":\n",
    "        print(stack.top())\n",
    "    else:\n",
    "        print(\"unacceptable op\")"
   ]
  },
  {
   "cell_type": "code",
   "execution_count": 19,
   "metadata": {},
   "outputs": [
    {
     "ename": "ValueError",
     "evalue": "invalid literal for int() with base 10: ''",
     "output_type": "error",
     "traceback": [
      "\u001b[1;31m---------------------------------------------------------------------------\u001b[0m",
      "\u001b[1;31mValueError\u001b[0m                                Traceback (most recent call last)",
      "\u001b[1;32m<ipython-input-19-8c1da917bf52>\u001b[0m in \u001b[0;36m<module>\u001b[1;34m()\u001b[0m\n\u001b[0;32m      1\u001b[0m \u001b[1;32mimport\u001b[0m \u001b[0msys\u001b[0m\u001b[1;33m\u001b[0m\u001b[0m\n\u001b[0;32m      2\u001b[0m \u001b[1;33m\u001b[0m\u001b[0m\n\u001b[1;32m----> 3\u001b[1;33m \u001b[0mtrials\u001b[0m \u001b[1;33m=\u001b[0m \u001b[0mint\u001b[0m\u001b[1;33m(\u001b[0m\u001b[0msys\u001b[0m\u001b[1;33m.\u001b[0m\u001b[0mstdin\u001b[0m\u001b[1;33m.\u001b[0m\u001b[0mreadline\u001b[0m\u001b[1;33m(\u001b[0m\u001b[1;33m)\u001b[0m\u001b[1;33m.\u001b[0m\u001b[0mstrip\u001b[0m\u001b[1;33m(\u001b[0m\u001b[1;33m)\u001b[0m\u001b[1;33m)\u001b[0m\u001b[1;33m\u001b[0m\u001b[0m\n\u001b[0m\u001b[0;32m      4\u001b[0m \u001b[1;31m# trials = int(trials)\u001b[0m\u001b[1;33m\u001b[0m\u001b[1;33m\u001b[0m\u001b[0m\n\u001b[0;32m      5\u001b[0m \u001b[0mstack\u001b[0m \u001b[1;33m=\u001b[0m \u001b[1;33m[\u001b[0m\u001b[1;33m]\u001b[0m\u001b[1;33m\u001b[0m\u001b[0m\n",
      "\u001b[1;31mValueError\u001b[0m: invalid literal for int() with base 10: ''"
     ]
    }
   ],
   "source": [
    "import sys\n",
    "\n",
    "trials = int(sys.stdin.readline().strip())\n",
    "# trials = int(trials)\n",
    "stack = []\n",
    "\n",
    "for _ in range(trials):\n",
    "    cmd = sys.stdin.readline().strip().split()\n",
    "    order = cmd[0]\n",
    "    \n",
    "    if order == \"push\":\n",
    "        stack.append(cmd[1])\n",
    "    elif order == \"pop\":\n",
    "        if len(stack) != 0:\n",
    "            print(stack.pop())\n",
    "        else:\n",
    "            print(-1)\n",
    "    elif order == \"size\":\n",
    "        print(len(stack))\n",
    "    elif order == \"empty\":\n",
    "        if len(stack) == 0:\n",
    "            print(\"1\")\n",
    "        else:\n",
    "            print(\"0\")\n",
    "    elif order == \"top\":\n",
    "        if len(stack) !=0:\n",
    "            print(stack[-1])\n",
    "        else:\n",
    "            print(\"-1\")"
   ]
  },
  {
   "cell_type": "code",
   "execution_count": null,
   "metadata": {},
   "outputs": [],
   "source": [
    "import sys\n",
    "count_order = int(sys.stdin.readline())\n",
    "\n",
    "stack = []\n",
    "\n",
    "for count in range(0,count_order):\n",
    "    cmd = sys.stdin.readline().split()\n",
    "    order = cmd[0]\n",
    "    if order == \"push\":\n",
    "        stack.append(order[1])\n",
    "    elif order == \"top\":\n",
    "        if len(stack) == 0:\n",
    "            print(-1)\n",
    "        else:\n",
    "            print(stack[-1])\n",
    "    elif order == \"size\":\n",
    "        print(len(stack))\n",
    "    elif order == \"pop\":\n",
    "        if len(stack) ==0:\n",
    "            print(-1)\n",
    "        else:\n",
    "            print(stack.pop())\n",
    "    elif order == \"empty\":\n",
    "        if len(stack) == 0:\n",
    "            print(1)\n",
    "        else:\n",
    "            print(0)"
   ]
  },
  {
   "cell_type": "code",
   "execution_count": null,
   "metadata": {},
   "outputs": [],
   "source": [
    "7\n",
    "pop\n",
    "top\n",
    "push 123\n",
    "top\n",
    "pop\n",
    "top\n",
    "pop"
   ]
  },
  {
   "cell_type": "code",
   "execution_count": 5,
   "metadata": {},
   "outputs": [
    {
     "ename": "SyntaxError",
     "evalue": "invalid syntax (<ipython-input-5-eeb7f946bb98>, line 29)",
     "output_type": "error",
     "traceback": [
      "\u001b[1;36m  File \u001b[1;32m\"<ipython-input-5-eeb7f946bb98>\"\u001b[1;36m, line \u001b[1;32m29\u001b[0m\n\u001b[1;33m    elif cmd[0] = \"pop\":\u001b[0m\n\u001b[1;37m                ^\u001b[0m\n\u001b[1;31mSyntaxError\u001b[0m\u001b[1;31m:\u001b[0m invalid syntax\n"
     ]
    }
   ],
   "source": [
    "def push(n):\n",
    "    lst.append(n)\n",
    "    \n",
    "def pop():\n",
    "    try:\n",
    "        print(lst.pop())\n",
    "    except:\n",
    "        print(-1)\n",
    "\n",
    "def size():\n",
    "    return len(lst)\n",
    "\n",
    "def empty():\n",
    "    a = 1 if size() ==0 else 0\n",
    "    print(a)\n",
    "    \n",
    "def top():\n",
    "    try:\n",
    "        print(lst[-1])\n",
    "    except:\n",
    "        print(-1)\n",
    "        \n",
    "a = int(input())\n",
    "lst = []\n",
    "for _ in range(a):\n",
    "    cmd = input().split()\n",
    "    if cmd[0] == \"push\":\n",
    "        push(cmd[1])\n",
    "    elif cmd[0] == \"pop\":\n",
    "        pop()\n",
    "    elif cmd[0] == \"size\":\n",
    "        print(size())\n",
    "    elif cmd[0] == \"empty\":\n",
    "        empty()\n",
    "    elif cmd[0] == \"top\":\n",
    "        top()"
   ]
  },
  {
   "cell_type": "markdown",
   "metadata": {},
   "source": [
    "14\n",
    "push 1\n",
    "push 2\n",
    "top\n",
    "size\n",
    "empty\n",
    "pop\n",
    "pop\n",
    "pop\n",
    "size\n",
    "empty\n",
    "pop\n",
    "push 3\n",
    "empty\n",
    "top\n",
    "\n",
    "2\n",
    "2\n",
    "0\n",
    "2\n",
    "1\n",
    "-1\n",
    "0\n",
    "1\n",
    "-1\n",
    "0\n",
    "3"
   ]
  },
  {
   "cell_type": "code",
   "execution_count": null,
   "metadata": {},
   "outputs": [],
   "source": [
    "class Stack:\n",
    "    def __init__(self):\n",
    "        self.len = 0\n",
    "        self.list = []\n",
    "        "
   ]
  }
 ],
 "metadata": {
  "kernelspec": {
   "display_name": "tensorflow",
   "language": "python",
   "name": "tensorflow"
  },
  "language_info": {
   "codemirror_mode": {
    "name": "ipython",
    "version": 3
   },
   "file_extension": ".py",
   "mimetype": "text/x-python",
   "name": "python",
   "nbconvert_exporter": "python",
   "pygments_lexer": "ipython3",
   "version": "3.5.5"
  }
 },
 "nbformat": 4,
 "nbformat_minor": 2
}
